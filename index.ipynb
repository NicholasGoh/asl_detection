{
 "cells": [
  {
   "cell_type": "markdown",
   "metadata": {},
   "source": [
    "# asl_detection\n",
    "\n",
    "> an attempt to detect american sign language"
   ]
  },
  {
   "cell_type": "markdown",
   "metadata": {},
   "source": [
    "### Prerequisites\n",
    "\n",
    "This repo was developed on `Pop!_OS 20.10`.\n",
    "\n",
    "- `Pop!_OS 20.10`\n",
    "- `Nvidia GPU`\n",
    "- [Anaconda](https://docs.anaconda.com/anaconda/install/linux/)"
   ]
  },
  {
   "cell_type": "markdown",
   "metadata": {},
   "source": [
    "### Installing\n",
    "\n",
    "Create environment\n",
    "\n",
    "\tgit clone https://github.com/NicholasGoh/asl_detection.git\n",
    "\tcd deep_learning\n",
    "\tconda env create -f environment.yml\n",
    "\n",
    "Activate environment and install jupyter kernel\n",
    "\n",
    "\tconda activate asl\n",
    "\tpython -m ipykernel install --user --name asl  --display-name \"asl\"\n",
    "\t\n",
    "Notebooks will then be accessible\n",
    "\n",
    "\tjupyter notebook"
   ]
  },
  {
   "cell_type": "markdown",
   "metadata": {},
   "source": [
    "## License\n",
    "\n",
    "This project is licensed under the [MIT License](LICENSE.md)"
   ]
  },
  {
   "cell_type": "markdown",
   "metadata": {},
   "source": [
    "## Acknowledgments\n",
    "\n",
    "### Datasets\n",
    "\n",
    "  - Hand Detection\n",
    "    - [Hands Dataset](https://www.robots.ox.ac.uk/~vgg/data/hands/)\n",
    "  - Hand Classification\n",
    "    - [ASL Alphabets on Kaggle](https://www.kaggle.com/grassknoted/asl-alphabet)\n",
    "  - Evalutation\n",
    "    - [ASL Alphabets on YouTube](https://www.youtube.com/watch?v=a5BD8SjhPSg&t=709s)\n",
    "\n",
    "### Repository\n",
    "\n",
    "  - [darknet](https://github.com/AlexeyAB/darknet)\n",
    "\n",
    "### Code\n",
    "  - Sources to borrowed code in respective notebooks"
   ]
  },
  {
   "cell_type": "code",
   "execution_count": null,
   "metadata": {},
   "outputs": [],
   "source": []
  }
 ],
 "metadata": {
  "kernelspec": {
   "display_name": "Python 3",
   "language": "python",
   "name": "python3"
  }
 },
 "nbformat": 4,
 "nbformat_minor": 2
}
