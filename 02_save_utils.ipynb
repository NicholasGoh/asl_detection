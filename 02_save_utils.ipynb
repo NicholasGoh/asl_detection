{
 "cells": [
  {
   "cell_type": "code",
   "execution_count": null,
   "metadata": {},
   "outputs": [],
   "source": [
    "# default_exp save"
   ]
  },
  {
   "cell_type": "code",
   "execution_count": null,
   "metadata": {},
   "outputs": [],
   "source": [
    "#hide\n",
    "from nbdev.showdoc import *"
   ]
  },
  {
   "cell_type": "markdown",
   "metadata": {},
   "source": [
    "# saving utils\n",
    "> helper function for saving plots"
   ]
  },
  {
   "cell_type": "code",
   "execution_count": null,
   "metadata": {},
   "outputs": [],
   "source": [
    "#export\n",
    "import os\n",
    "\n",
    "def save(save_folder, folder, model=None, fig=None):\n",
    "    save_folder = os.path.join(save_folder, folder)\n",
    "    os.makedirs(save_folder, exist_ok=True)\n",
    "    counter = 0\n",
    "    if fig:\n",
    "        save_path = save_folder + f'/{folder}_%d.jpg'\n",
    "        while os.path.isfile(save_path % counter):\n",
    "            counter += 1\n",
    "        fig.savefig(save_path % counter)\n",
    "    elif model:\n",
    "        save_path = save_folder + f'/{folder}_%d.h5'\n",
    "        while os.path.isfile(save_path % counter):\n",
    "            counter += 1\n",
    "        model.save(save_path % counter)"
   ]
  }
 ],
 "metadata": {
  "kernelspec": {
   "display_name": "asl",
   "language": "python",
   "name": "asl"
  }
 },
 "nbformat": 4,
 "nbformat_minor": 4
}
